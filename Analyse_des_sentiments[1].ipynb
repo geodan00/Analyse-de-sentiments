{
 "cells": [
  {
   "cell_type": "markdown",
   "id": "37d8e818-1666-49be-a186-898cace3b475",
   "metadata": {},
   "source": [
    "# Classification des sentiments dans les critiques de films avec Textblob et Vader Sentiment"
   ]
  },
  {
   "cell_type": "code",
   "execution_count": 1,
   "id": "c89d0f7d",
   "metadata": {
    "_cell_guid": "b1076dfc-b9ad-4769-8c92-a6c4dae69d19",
    "_uuid": "8f2839f25d086af736a60e9eeb907d3b93b6e0e5",
    "papermill": {
     "duration": 0.067571,
     "end_time": "2022-09-11T12:25:07.123730",
     "exception": false,
     "start_time": "2022-09-11T12:25:07.056159",
     "status": "completed"
    },
    "tags": []
   },
   "outputs": [
    {
     "name": "stdout",
     "output_type": "stream",
     "text": [
      "/kaggle/input\\stanford-sentiment-treebank-v2-sst2\\SST2-Data\\SST2-Data\\trainDevTestTrees_PTB\\trees\\dev.txt\n",
      "/kaggle/input\\stanford-sentiment-treebank-v2-sst2\\SST2-Data\\SST2-Data\\trainDevTestTrees_PTB\\trees\\test.txt\n",
      "/kaggle/input\\stanford-sentiment-treebank-v2-sst2\\SST2-Data\\SST2-Data\\trainDevTestTrees_PTB\\trees\\train.txt\n"
     ]
    }
   ],
   "source": [
    "\n",
    "\n",
    "import numpy as np # Algèbre linéaire\n",
    "import pandas as pd # Pretraitement des données\n",
    "\n",
    "import os\n",
    "for dirname, _, filenames in os.walk('/kaggle/input'):\n",
    "    for filename in filenames:\n",
    "        print(os.path.join(dirname, filename))\n"
   ]
  },
  {
   "cell_type": "code",
   "execution_count": 2,
   "id": "188cc5ea",
   "metadata": {
    "papermill": {
     "duration": 12.962241,
     "end_time": "2022-09-11T12:25:20.093662",
     "exception": false,
     "start_time": "2022-09-11T12:25:07.131421",
     "status": "completed"
    },
    "tags": []
   },
   "outputs": [
    {
     "name": "stdout",
     "output_type": "stream",
     "text": [
      "Requirement already satisfied: pytreebank in c:\\users\\pc\\anaconda3\\lib\\site-packages (0.2.7)\n"
     ]
    }
   ],
   "source": [
    "!pip install pytreebank"
   ]
  },
  {
   "cell_type": "markdown",
   "id": "a85b24c6",
   "metadata": {
    "papermill": {
     "duration": 0.007383,
     "end_time": "2022-09-11T12:25:20.108779",
     "exception": false,
     "start_time": "2022-09-11T12:25:20.101396",
     "status": "completed"
    },
    "tags": []
   },
   "source": [
    "#### Pytreebank : Utilisé pour charger le jeu de données SST"
   ]
  },
  {
   "cell_type": "markdown",
   "id": "37cce897",
   "metadata": {
    "papermill": {
     "duration": 0.007495,
     "end_time": "2022-09-11T12:25:20.124062",
     "exception": false,
     "start_time": "2022-09-11T12:25:20.116567",
     "status": "completed"
    },
    "tags": []
   },
   "source": [
    "## importation des bibliothèques"
   ]
  },
  {
   "cell_type": "code",
   "execution_count": 3,
   "id": "e967e84c",
   "metadata": {
    "papermill": {
     "duration": 1.957373,
     "end_time": "2022-09-11T12:25:22.089088",
     "exception": false,
     "start_time": "2022-09-11T12:25:20.131715",
     "status": "completed"
    },
    "tags": []
   },
   "outputs": [
    {
     "name": "stderr",
     "output_type": "stream",
     "text": [
      "[nltk_data] Downloading package vader_lexicon to\n",
      "[nltk_data]     C:\\Users\\pc\\AppData\\Roaming\\nltk_data...\n",
      "[nltk_data]   Package vader_lexicon is already up-to-date!\n"
     ]
    }
   ],
   "source": [
    "import nltk\n",
    "import re\n",
    "from nltk.corpus import stopwords\n",
    "from nltk.tokenize import word_tokenize\n",
    "from nltk.sentiment.vader import SentimentIntensityAnalyzer\n",
    "nltk.download('vader_lexicon')\n",
    "from textblob import TextBlob\n",
    "from sklearn.metrics import f1_score,accuracy_score\n",
    "import matplotlib.pyplot as plt\n",
    "import pytreebank\n",
    "import os,sys"
   ]
  },
  {
   "cell_type": "markdown",
   "id": "726b346b",
   "metadata": {
    "papermill": {
     "duration": 0.007994,
     "end_time": "2022-09-11T12:25:22.105789",
     "exception": false,
     "start_time": "2022-09-11T12:25:22.097795",
     "status": "completed"
    },
    "tags": []
   },
   "source": [
    "## Lecture et formatage du jeu de données"
   ]
  },
  {
   "cell_type": "code",
   "execution_count": 4,
   "id": "95d78dac",
   "metadata": {
    "papermill": {
     "duration": 5.020362,
     "end_time": "2022-09-11T12:25:27.134656",
     "exception": false,
     "start_time": "2022-09-11T12:25:22.114294",
     "status": "completed"
    },
    "tags": []
   },
   "outputs": [],
   "source": [
    "data = pytreebank.load_sst(\"/kaggle/input/stanford-sentiment-treebank-v2-sst2/SST2-Data/SST2-Data/trainDevTestTrees_PTB/trees/\")"
   ]
  },
  {
   "cell_type": "code",
   "execution_count": 5,
   "id": "0b3b5e42",
   "metadata": {
    "papermill": {
     "duration": 0.019695,
     "end_time": "2022-09-11T12:25:27.163017",
     "exception": false,
     "start_time": "2022-09-11T12:25:27.143322",
     "status": "completed"
    },
    "tags": []
   },
   "outputs": [
    {
     "name": "stdout",
     "output_type": "stream",
     "text": [
      "3 The Rock is destined to be the 21st Century 's new `` Conan '' and that he 's going to make a splash even greater than Arnold Schwarzenegger , Jean-Claud Van Damme or Steven Segal .\n"
     ]
    }
   ],
   "source": [
    "for item in data['train']:\n",
    "    print(item.to_labeled_lines()[0][0],item.to_labeled_lines()[0][1])\n",
    "    break\n",
    "    "
   ]
  },
  {
   "cell_type": "code",
   "execution_count": 6,
   "id": "d89ad49c",
   "metadata": {
    "papermill": {
     "duration": 0.015385,
     "end_time": "2022-09-11T12:25:27.186414",
     "exception": false,
     "start_time": "2022-09-11T12:25:27.171029",
     "status": "completed"
    },
    "tags": []
   },
   "outputs": [],
   "source": [
    "\n",
    "out_path = os.path.join(\"C:/Users/pc/OneDrive/Documents/Cours_IUT/Machine learning/sst_{}.txt\")# new file format"
   ]
  },
  {
   "cell_type": "markdown",
   "id": "b7183bf9",
   "metadata": {
    "papermill": {
     "duration": 0.008028,
     "end_time": "2022-09-11T12:25:27.202410",
     "exception": false,
     "start_time": "2022-09-11T12:25:27.194382",
     "status": "completed"
    },
    "tags": []
   },
   "source": [
    "#### formatage des données à partir du format {(étiquette,phrase) => étiquette phrase}"
   ]
  },
  {
   "cell_type": "code",
   "execution_count": 7,
   "id": "123a7596",
   "metadata": {
    "papermill": {
     "duration": 0.573406,
     "end_time": "2022-09-11T12:25:27.783943",
     "exception": false,
     "start_time": "2022-09-11T12:25:27.210537",
     "status": "completed"
    },
    "tags": []
   },
   "outputs": [
    {
     "name": "stdout",
     "output_type": "stream",
     "text": [
      "done with <_io.TextIOWrapper name='C:/Users/pc/OneDrive/Documents/Cours_IUT/Machine learning/sst_train.txt' mode='w' encoding='utf-8'>\n",
      "done with <_io.TextIOWrapper name='C:/Users/pc/OneDrive/Documents/Cours_IUT/Machine learning/sst_test.txt' mode='w' encoding='utf-8'>\n",
      "done with <_io.TextIOWrapper name='C:/Users/pc/OneDrive/Documents/Cours_IUT/Machine learning/sst_dev.txt' mode='w' encoding='utf-8'>\n"
     ]
    }
   ],
   "source": [
    "for cat in ['train','test','dev']:\n",
    "    with open(out_path.format(cat),\"w\", encoding='utf-8') as file:\n",
    "        for item in data[cat]:\n",
    "            file.write(\"__label__{}\\t{}\\n\".format(\n",
    "                item.to_labeled_lines()[0][0] +1,\n",
    "                item.to_labeled_lines()[0][1]\n",
    "            ))\n",
    "    \n",
    "    print(\"done with {}\".format(file))"
   ]
  },
  {
   "cell_type": "code",
   "execution_count": 8,
   "id": "e4fb21f9",
   "metadata": {
    "papermill": {
     "duration": 0.01831,
     "end_time": "2022-09-11T12:25:27.810599",
     "exception": false,
     "start_time": "2022-09-11T12:25:27.792289",
     "status": "completed"
    },
    "tags": []
   },
   "outputs": [
    {
     "data": {
      "text/plain": [
       "8544"
      ]
     },
     "execution_count": 8,
     "metadata": {},
     "output_type": "execute_result"
    }
   ],
   "source": [
    "len(data['train'])"
   ]
  },
  {
   "cell_type": "code",
   "execution_count": 9,
   "id": "b101804e",
   "metadata": {
    "papermill": {
     "duration": 0.05732,
     "end_time": "2022-09-11T12:25:27.876010",
     "exception": false,
     "start_time": "2022-09-11T12:25:27.818690",
     "status": "completed"
    },
    "tags": []
   },
   "outputs": [],
   "source": [
    "# now you can read the formatted files from pandas easily\n",
    "train = pd.read_csv(\"C:/Users/pc/OneDrive/Documents/Cours_IUT/Machine learning/sst_train.txt\",sep=\"\\t\",header=None,names=['label','text'])\n",
    "train['label'] = train['label'].str.replace(\"__label__\",\"\")\n",
    "train['label'] = train['label'].astype(int).astype(\"category\")"
   ]
  },
  {
   "cell_type": "code",
   "execution_count": 10,
   "id": "8af32fb2",
   "metadata": {
    "papermill": {
     "duration": 0.026986,
     "end_time": "2022-09-11T12:25:27.911065",
     "exception": false,
     "start_time": "2022-09-11T12:25:27.884079",
     "status": "completed"
    },
    "tags": []
   },
   "outputs": [
    {
     "data": {
      "text/html": [
       "<div>\n",
       "<style scoped>\n",
       "    .dataframe tbody tr th:only-of-type {\n",
       "        vertical-align: middle;\n",
       "    }\n",
       "\n",
       "    .dataframe tbody tr th {\n",
       "        vertical-align: top;\n",
       "    }\n",
       "\n",
       "    .dataframe thead th {\n",
       "        text-align: right;\n",
       "    }\n",
       "</style>\n",
       "<table border=\"1\" class=\"dataframe\">\n",
       "  <thead>\n",
       "    <tr style=\"text-align: right;\">\n",
       "      <th></th>\n",
       "      <th>label</th>\n",
       "      <th>text</th>\n",
       "    </tr>\n",
       "  </thead>\n",
       "  <tbody>\n",
       "    <tr>\n",
       "      <th>0</th>\n",
       "      <td>4</td>\n",
       "      <td>The Rock is destined to be the 21st Century 's...</td>\n",
       "    </tr>\n",
       "    <tr>\n",
       "      <th>1</th>\n",
       "      <td>5</td>\n",
       "      <td>The gorgeously elaborate continuation of `` Th...</td>\n",
       "    </tr>\n",
       "    <tr>\n",
       "      <th>2</th>\n",
       "      <td>4</td>\n",
       "      <td>Singer/composer Bryan Adams contributes a slew...</td>\n",
       "    </tr>\n",
       "    <tr>\n",
       "      <th>3</th>\n",
       "      <td>3</td>\n",
       "      <td>You 'd think by now America would have had eno...</td>\n",
       "    </tr>\n",
       "    <tr>\n",
       "      <th>4</th>\n",
       "      <td>4</td>\n",
       "      <td>Yet the act is still charming here .</td>\n",
       "    </tr>\n",
       "  </tbody>\n",
       "</table>\n",
       "</div>"
      ],
      "text/plain": [
       "  label                                               text\n",
       "0     4  The Rock is destined to be the 21st Century 's...\n",
       "1     5  The gorgeously elaborate continuation of `` Th...\n",
       "2     4  Singer/composer Bryan Adams contributes a slew...\n",
       "3     3  You 'd think by now America would have had eno...\n",
       "4     4               Yet the act is still charming here ."
      ]
     },
     "execution_count": 10,
     "metadata": {},
     "output_type": "execute_result"
    }
   ],
   "source": [
    "train.head()"
   ]
  },
  {
   "cell_type": "code",
   "execution_count": 11,
   "id": "21d80363",
   "metadata": {
    "papermill": {
     "duration": 0.02128,
     "end_time": "2022-09-11T12:25:27.940483",
     "exception": false,
     "start_time": "2022-09-11T12:25:27.919203",
     "status": "completed"
    },
    "tags": []
   },
   "outputs": [],
   "source": [
    "train['len'] = train['text'].str.len()"
   ]
  },
  {
   "cell_type": "code",
   "execution_count": 12,
   "id": "249da9fe",
   "metadata": {
    "papermill": {
     "duration": 0.023284,
     "end_time": "2022-09-11T12:25:27.972111",
     "exception": false,
     "start_time": "2022-09-11T12:25:27.948827",
     "status": "completed"
    },
    "tags": []
   },
   "outputs": [
    {
     "data": {
      "text/html": [
       "<div>\n",
       "<style scoped>\n",
       "    .dataframe tbody tr th:only-of-type {\n",
       "        vertical-align: middle;\n",
       "    }\n",
       "\n",
       "    .dataframe tbody tr th {\n",
       "        vertical-align: top;\n",
       "    }\n",
       "\n",
       "    .dataframe thead th {\n",
       "        text-align: right;\n",
       "    }\n",
       "</style>\n",
       "<table border=\"1\" class=\"dataframe\">\n",
       "  <thead>\n",
       "    <tr style=\"text-align: right;\">\n",
       "      <th></th>\n",
       "      <th>label</th>\n",
       "      <th>text</th>\n",
       "      <th>len</th>\n",
       "    </tr>\n",
       "  </thead>\n",
       "  <tbody>\n",
       "    <tr>\n",
       "      <th>0</th>\n",
       "      <td>4</td>\n",
       "      <td>The Rock is destined to be the 21st Century 's...</td>\n",
       "      <td>181</td>\n",
       "    </tr>\n",
       "    <tr>\n",
       "      <th>1</th>\n",
       "      <td>5</td>\n",
       "      <td>The gorgeously elaborate continuation of `` Th...</td>\n",
       "      <td>226</td>\n",
       "    </tr>\n",
       "    <tr>\n",
       "      <th>2</th>\n",
       "      <td>4</td>\n",
       "      <td>Singer/composer Bryan Adams contributes a slew...</td>\n",
       "      <td>208</td>\n",
       "    </tr>\n",
       "    <tr>\n",
       "      <th>3</th>\n",
       "      <td>3</td>\n",
       "      <td>You 'd think by now America would have had eno...</td>\n",
       "      <td>100</td>\n",
       "    </tr>\n",
       "    <tr>\n",
       "      <th>4</th>\n",
       "      <td>4</td>\n",
       "      <td>Yet the act is still charming here .</td>\n",
       "      <td>36</td>\n",
       "    </tr>\n",
       "  </tbody>\n",
       "</table>\n",
       "</div>"
      ],
      "text/plain": [
       "  label                                               text  len\n",
       "0     4  The Rock is destined to be the 21st Century 's...  181\n",
       "1     5  The gorgeously elaborate continuation of `` Th...  226\n",
       "2     4  Singer/composer Bryan Adams contributes a slew...  208\n",
       "3     3  You 'd think by now America would have had eno...  100\n",
       "4     4               Yet the act is still charming here .   36"
      ]
     },
     "execution_count": 12,
     "metadata": {},
     "output_type": "execute_result"
    }
   ],
   "source": [
    "train.head()"
   ]
  },
  {
   "cell_type": "code",
   "execution_count": 13,
   "id": "d32ef6a9-0231-4005-9b5a-fee503c5abfb",
   "metadata": {},
   "outputs": [
    {
     "data": {
      "text/plain": [
       "count     8544\n",
       "unique       5\n",
       "top          4\n",
       "freq      2322\n",
       "Name: label, dtype: int64"
      ]
     },
     "execution_count": 13,
     "metadata": {},
     "output_type": "execute_result"
    }
   ],
   "source": [
    "train[\"label\"].describe()"
   ]
  },
  {
   "cell_type": "code",
   "execution_count": 14,
   "id": "4a792592-8d84-44ba-98c9-7bc8809afd63",
   "metadata": {},
   "outputs": [
    {
     "data": {
      "image/png": "[encoded data removed]",
      "text/plain": [
       "<Figure size 640x480 with 1 Axes>"
      ]
     },
     "metadata": {},
     "output_type": "display_data"
    }
   ],
   "source": [
    "labels_count = train['label'].value_counts()\n",
    "values = labels_count.values.tolist()\n",
    "labels = labels_count.index.tolist()\n",
    "\n",
    "plt.pie(values, labels = labels)\n",
    "\n",
    "plt.title(\"repartition des sentiments\")\n",
    "plt.show()"
   ]
  },
  {
   "cell_type": "code",
   "execution_count": 32,
   "id": "30617846",
   "metadata": {
    "papermill": {
     "duration": 0.027555,
     "end_time": "2022-09-11T12:25:28.008432",
     "exception": false,
     "start_time": "2022-09-11T12:25:27.980877",
     "status": "completed"
    },
    "tags": []
   },
   "outputs": [],
   "source": [
    "test = pd.read_csv(\"C:/Users/pc/OneDrive/Documents/Cours_IUT/Machine learning/sst_test.txt\",sep=\"\\t\",header=None,names=['label','text'])\n",
    "test['label'] = test['label'].str.replace(\"__label__\",\"\")\n",
    "test['label'] = test['label'].astype(int).astype(\"category\")"
   ]
  },
  {
   "cell_type": "code",
   "execution_count": 16,
   "id": "97fed2de",
   "metadata": {
    "papermill": {
     "duration": 0.021552,
     "end_time": "2022-09-11T12:25:28.038542",
     "exception": false,
     "start_time": "2022-09-11T12:25:28.016990",
     "status": "completed"
    },
    "tags": []
   },
   "outputs": [
    {
     "data": {
      "text/html": [
       "<div>\n",
       "<style scoped>\n",
       "    .dataframe tbody tr th:only-of-type {\n",
       "        vertical-align: middle;\n",
       "    }\n",
       "\n",
       "    .dataframe tbody tr th {\n",
       "        vertical-align: top;\n",
       "    }\n",
       "\n",
       "    .dataframe thead th {\n",
       "        text-align: right;\n",
       "    }\n",
       "</style>\n",
       "<table border=\"1\" class=\"dataframe\">\n",
       "  <thead>\n",
       "    <tr style=\"text-align: right;\">\n",
       "      <th></th>\n",
       "      <th>label</th>\n",
       "      <th>text</th>\n",
       "    </tr>\n",
       "  </thead>\n",
       "  <tbody>\n",
       "    <tr>\n",
       "      <th>0</th>\n",
       "      <td>3</td>\n",
       "      <td>Effective but too-tepid biopic</td>\n",
       "    </tr>\n",
       "    <tr>\n",
       "      <th>1</th>\n",
       "      <td>4</td>\n",
       "      <td>If you sometimes like to go to the movies to h...</td>\n",
       "    </tr>\n",
       "    <tr>\n",
       "      <th>2</th>\n",
       "      <td>5</td>\n",
       "      <td>Emerges as something rare , an issue movie tha...</td>\n",
       "    </tr>\n",
       "    <tr>\n",
       "      <th>3</th>\n",
       "      <td>3</td>\n",
       "      <td>The film provides some great insight into the ...</td>\n",
       "    </tr>\n",
       "    <tr>\n",
       "      <th>4</th>\n",
       "      <td>5</td>\n",
       "      <td>Offers that rare combination of entertainment ...</td>\n",
       "    </tr>\n",
       "  </tbody>\n",
       "</table>\n",
       "</div>"
      ],
      "text/plain": [
       "  label                                               text\n",
       "0     3                     Effective but too-tepid biopic\n",
       "1     4  If you sometimes like to go to the movies to h...\n",
       "2     5  Emerges as something rare , an issue movie tha...\n",
       "3     3  The film provides some great insight into the ...\n",
       "4     5  Offers that rare combination of entertainment ..."
      ]
     },
     "execution_count": 16,
     "metadata": {},
     "output_type": "execute_result"
    }
   ],
   "source": [
    "test.head()"
   ]
  },
  {
   "cell_type": "markdown",
   "id": "f8e0f83d-dc50-4a10-b5e7-b3ad7a0a56c1",
   "metadata": {},
   "source": [
    "## Pretraitement des données"
   ]
  },
  {
   "cell_type": "code",
   "execution_count": 37,
   "id": "c680c45f-9bde-41a0-87ec-fabe07cd8350",
   "metadata": {},
   "outputs": [
    {
     "name": "stderr",
     "output_type": "stream",
     "text": [
      "[nltk_data] Downloading package punkt to\n",
      "[nltk_data]     C:\\Users\\pc\\AppData\\Roaming\\nltk_data...\n",
      "[nltk_data]   Package punkt is already up-to-date!\n",
      "[nltk_data] Downloading package stopwords to\n",
      "[nltk_data]     C:\\Users\\pc\\AppData\\Roaming\\nltk_data...\n",
      "[nltk_data]   Package stopwords is already up-to-date!\n"
     ]
    }
   ],
   "source": [
    "\n",
    "\n",
    "# Télécharger les ressources NLTK nécessaires\n",
    "nltk.download('punkt')\n",
    "nltk.download('stopwords')\n",
    "\n",
    "# Liste des mots vides (stopwords) en anglais (vous pouvez changer de langue si nécessaire)\n",
    "stop_words = set(stopwords.words('english'))\n",
    "\n",
    "def preprocess_text(text):\n",
    "    # 1. Convertir le texte en minuscules\n",
    "    text = text.lower()\n",
    "\n",
    "    # 2. Enlever les balises HTML si elles existent\n",
    "    text = re.sub(r'<.*?>', '', text)\n",
    "\n",
    "    # 3. Enlever les URLs\n",
    "    text = re.sub(r'http\\S+|www\\S+|https\\S+', '', text, flags=re.MULTILINE)\n",
    "\n",
    "    # 4. Enlever les mentions (@username)\n",
    "    text = re.sub(r'@\\w+', '', text)\n",
    "\n",
    "    # 5. Enlever les caractères spéciaux, les chiffres et les ponctuations\n",
    "    text = re.sub(r'[^a-z\\s]', '', text)\n",
    "\n",
    "    # 6. Tokenization: Diviser le texte en mots\n",
    "    tokens = word_tokenize(text)\n",
    "\n",
    "    # 7. Enlever les stopwords\n",
    "    tokens = [word for word in tokens if word not in stop_words]\n",
    "\n",
    "    # 8. (Optionnel) Stemming ou Lemmatization (réduire les mots à leur racine)\n",
    "    # Vous pouvez utiliser nltk.stem.PorterStemmer() pour le stemming ou\n",
    "    # nltk.stem.WordNetLemmatizer() pour la lemmatisation.\n",
    "    stemmer = nltk.stem.PorterStemmer()\n",
    "    tokens = [stemmer.stem(word) for word in tokens]\n",
    "\n",
    "    # 9. Reconstruire le texte\n",
    "    cleaned_text = ' '.join(tokens)\n",
    "    \n",
    "    return cleaned_text\n",
    "\n"
   ]
  },
  {
   "cell_type": "code",
   "execution_count": 38,
   "id": "97c1ad93-6726-464b-8d3b-cfb03897cf34",
   "metadata": {},
   "outputs": [
    {
     "data": {
      "text/html": [
       "<div>\n",
       "<style scoped>\n",
       "    .dataframe tbody tr th:only-of-type {\n",
       "        vertical-align: middle;\n",
       "    }\n",
       "\n",
       "    .dataframe tbody tr th {\n",
       "        vertical-align: top;\n",
       "    }\n",
       "\n",
       "    .dataframe thead th {\n",
       "        text-align: right;\n",
       "    }\n",
       "</style>\n",
       "<table border=\"1\" class=\"dataframe\">\n",
       "  <thead>\n",
       "    <tr style=\"text-align: right;\">\n",
       "      <th></th>\n",
       "      <th>label</th>\n",
       "      <th>text</th>\n",
       "      <th>len</th>\n",
       "      <th>text_nettoyé</th>\n",
       "      <th>textblob_score</th>\n",
       "    </tr>\n",
       "  </thead>\n",
       "  <tbody>\n",
       "    <tr>\n",
       "      <th>0</th>\n",
       "      <td>4</td>\n",
       "      <td>The Rock is destined to be the 21st Century 's...</td>\n",
       "      <td>181</td>\n",
       "      <td>rock destin st centuri new conan go make splas...</td>\n",
       "      <td>0.318182</td>\n",
       "    </tr>\n",
       "    <tr>\n",
       "      <th>1</th>\n",
       "      <td>5</td>\n",
       "      <td>The gorgeously elaborate continuation of `` Th...</td>\n",
       "      <td>226</td>\n",
       "      <td>gorgeous elabor continu lord ring trilog huge ...</td>\n",
       "      <td>0.550000</td>\n",
       "    </tr>\n",
       "    <tr>\n",
       "      <th>2</th>\n",
       "      <td>4</td>\n",
       "      <td>Singer/composer Bryan Adams contributes a slew...</td>\n",
       "      <td>208</td>\n",
       "      <td>singercompos bryan adam contribut slew song po...</td>\n",
       "      <td>0.200000</td>\n",
       "    </tr>\n",
       "    <tr>\n",
       "      <th>3</th>\n",
       "      <td>3</td>\n",
       "      <td>You 'd think by now America would have had eno...</td>\n",
       "      <td>100</td>\n",
       "      <td>think america would enough plucki british ecce...</td>\n",
       "      <td>0.000000</td>\n",
       "    </tr>\n",
       "    <tr>\n",
       "      <th>4</th>\n",
       "      <td>4</td>\n",
       "      <td>Yet the act is still charming here .</td>\n",
       "      <td>36</td>\n",
       "      <td>yet act still charm</td>\n",
       "      <td>0.000000</td>\n",
       "    </tr>\n",
       "  </tbody>\n",
       "</table>\n",
       "</div>"
      ],
      "text/plain": [
       "  label                                               text  len  \\\n",
       "0     4  The Rock is destined to be the 21st Century 's...  181   \n",
       "1     5  The gorgeously elaborate continuation of `` Th...  226   \n",
       "2     4  Singer/composer Bryan Adams contributes a slew...  208   \n",
       "3     3  You 'd think by now America would have had eno...  100   \n",
       "4     4               Yet the act is still charming here .   36   \n",
       "\n",
       "                                        text_nettoyé  textblob_score  \n",
       "0  rock destin st centuri new conan go make splas...        0.318182  \n",
       "1  gorgeous elabor continu lord ring trilog huge ...        0.550000  \n",
       "2  singercompos bryan adam contribut slew song po...        0.200000  \n",
       "3  think america would enough plucki british ecce...        0.000000  \n",
       "4                                yet act still charm        0.000000  "
      ]
     },
     "execution_count": 38,
     "metadata": {},
     "output_type": "execute_result"
    }
   ],
   "source": [
    "train[\"text_nettoyé\"] = train[\"text\"].apply(preprocess_text)\n",
    "train.head()"
   ]
  },
  {
   "cell_type": "code",
   "execution_count": 39,
   "id": "a91bcceb-d0ec-4527-91ea-f2b3ba408fbc",
   "metadata": {},
   "outputs": [
    {
     "data": {
      "text/html": [
       "<div>\n",
       "<style scoped>\n",
       "    .dataframe tbody tr th:only-of-type {\n",
       "        vertical-align: middle;\n",
       "    }\n",
       "\n",
       "    .dataframe tbody tr th {\n",
       "        vertical-align: top;\n",
       "    }\n",
       "\n",
       "    .dataframe thead th {\n",
       "        text-align: right;\n",
       "    }\n",
       "</style>\n",
       "<table border=\"1\" class=\"dataframe\">\n",
       "  <thead>\n",
       "    <tr style=\"text-align: right;\">\n",
       "      <th></th>\n",
       "      <th>label</th>\n",
       "      <th>text</th>\n",
       "      <th>text_nettoyé</th>\n",
       "    </tr>\n",
       "  </thead>\n",
       "  <tbody>\n",
       "    <tr>\n",
       "      <th>0</th>\n",
       "      <td>3</td>\n",
       "      <td>Effective but too-tepid biopic</td>\n",
       "      <td>effect tootepid biopic</td>\n",
       "    </tr>\n",
       "    <tr>\n",
       "      <th>1</th>\n",
       "      <td>4</td>\n",
       "      <td>If you sometimes like to go to the movies to h...</td>\n",
       "      <td>sometim like go movi fun wasabi good place start</td>\n",
       "    </tr>\n",
       "    <tr>\n",
       "      <th>2</th>\n",
       "      <td>5</td>\n",
       "      <td>Emerges as something rare , an issue movie tha...</td>\n",
       "      <td>emerg someth rare issu movi honest keenli obse...</td>\n",
       "    </tr>\n",
       "    <tr>\n",
       "      <th>3</th>\n",
       "      <td>3</td>\n",
       "      <td>The film provides some great insight into the ...</td>\n",
       "      <td>film provid great insight neurot mindset comic...</td>\n",
       "    </tr>\n",
       "    <tr>\n",
       "      <th>4</th>\n",
       "      <td>5</td>\n",
       "      <td>Offers that rare combination of entertainment ...</td>\n",
       "      <td>offer rare combin entertain educ</td>\n",
       "    </tr>\n",
       "  </tbody>\n",
       "</table>\n",
       "</div>"
      ],
      "text/plain": [
       "  label                                               text  \\\n",
       "0     3                     Effective but too-tepid biopic   \n",
       "1     4  If you sometimes like to go to the movies to h...   \n",
       "2     5  Emerges as something rare , an issue movie tha...   \n",
       "3     3  The film provides some great insight into the ...   \n",
       "4     5  Offers that rare combination of entertainment ...   \n",
       "\n",
       "                                        text_nettoyé  \n",
       "0                             effect tootepid biopic  \n",
       "1   sometim like go movi fun wasabi good place start  \n",
       "2  emerg someth rare issu movi honest keenli obse...  \n",
       "3  film provid great insight neurot mindset comic...  \n",
       "4                   offer rare combin entertain educ  "
      ]
     },
     "execution_count": 39,
     "metadata": {},
     "output_type": "execute_result"
    }
   ],
   "source": [
    "test[\"text_nettoyé\"] = test[\"text\"].apply(preprocess_text)\n",
    "test.head()"
   ]
  },
  {
   "cell_type": "markdown",
   "id": "5c3ea15e",
   "metadata": {
    "papermill": {
     "duration": 0.008113,
     "end_time": "2022-09-11T12:25:28.055460",
     "exception": false,
     "start_time": "2022-09-11T12:25:28.047347",
     "status": "completed"
    },
    "tags": []
   },
   "source": [
    "## Test des différents modèles"
   ]
  },
  {
   "cell_type": "code",
   "execution_count": 40,
   "id": "a0e28387",
   "metadata": {
    "papermill": {
     "duration": 0.017318,
     "end_time": "2022-09-11T12:25:28.114385",
     "exception": false,
     "start_time": "2022-09-11T12:25:28.097067",
     "status": "completed"
    },
    "tags": []
   },
   "outputs": [],
   "source": [
    "def f1_acc(df,pred_column):\n",
    "    f1_macro  = f1_score(df['label'],df[pred_column],average='macro')\n",
    "    acc = accuracy_score(df['label'],df[pred_column])*100\n",
    "    print(\"F1 Score : {} \\n Accuracy : {}\".format(f1_macro,acc))"
   ]
  },
  {
   "cell_type": "markdown",
   "id": "acf386df",
   "metadata": {
    "papermill": {
     "duration": 0.008391,
     "end_time": "2022-09-11T12:25:28.132110",
     "exception": false,
     "start_time": "2022-09-11T12:25:28.123719",
     "status": "completed"
    },
    "tags": []
   },
   "source": [
    "## Utilisation de TextBlob"
   ]
  },
  {
   "cell_type": "code",
   "execution_count": 41,
   "id": "9459e603",
   "metadata": {
    "papermill": {
     "duration": 0.017306,
     "end_time": "2022-09-11T12:25:28.158119",
     "exception": false,
     "start_time": "2022-09-11T12:25:28.140813",
     "status": "completed"
    },
    "tags": []
   },
   "outputs": [],
   "source": [
    "def textblob_score(sentence):\n",
    "    return TextBlob(sentence).sentiment.polarity"
   ]
  },
  {
   "cell_type": "code",
   "execution_count": 42,
   "id": "70aef926",
   "metadata": {
    "papermill": {
     "duration": 1.085137,
     "end_time": "2022-09-11T12:25:29.252473",
     "exception": false,
     "start_time": "2022-09-11T12:25:28.167336",
     "status": "completed"
    },
    "tags": []
   },
   "outputs": [
    {
     "data": {
      "text/html": [
       "<div>\n",
       "<style scoped>\n",
       "    .dataframe tbody tr th:only-of-type {\n",
       "        vertical-align: middle;\n",
       "    }\n",
       "\n",
       "    .dataframe tbody tr th {\n",
       "        vertical-align: top;\n",
       "    }\n",
       "\n",
       "    .dataframe thead th {\n",
       "        text-align: right;\n",
       "    }\n",
       "</style>\n",
       "<table border=\"1\" class=\"dataframe\">\n",
       "  <thead>\n",
       "    <tr style=\"text-align: right;\">\n",
       "      <th></th>\n",
       "      <th>label</th>\n",
       "      <th>text</th>\n",
       "      <th>text_nettoyé</th>\n",
       "      <th>textblob_score</th>\n",
       "    </tr>\n",
       "  </thead>\n",
       "  <tbody>\n",
       "    <tr>\n",
       "      <th>0</th>\n",
       "      <td>3</td>\n",
       "      <td>Effective but too-tepid biopic</td>\n",
       "      <td>effect tootepid biopic</td>\n",
       "      <td>0.0000</td>\n",
       "    </tr>\n",
       "    <tr>\n",
       "      <th>1</th>\n",
       "      <td>4</td>\n",
       "      <td>If you sometimes like to go to the movies to h...</td>\n",
       "      <td>sometim like go movi fun wasabi good place start</td>\n",
       "      <td>0.5000</td>\n",
       "    </tr>\n",
       "    <tr>\n",
       "      <th>2</th>\n",
       "      <td>5</td>\n",
       "      <td>Emerges as something rare , an issue movie tha...</td>\n",
       "      <td>emerg someth rare issu movi honest keenli obse...</td>\n",
       "      <td>0.4500</td>\n",
       "    </tr>\n",
       "    <tr>\n",
       "      <th>3</th>\n",
       "      <td>3</td>\n",
       "      <td>The film provides some great insight into the ...</td>\n",
       "      <td>film provid great insight neurot mindset comic...</td>\n",
       "      <td>0.2875</td>\n",
       "    </tr>\n",
       "    <tr>\n",
       "      <th>4</th>\n",
       "      <td>5</td>\n",
       "      <td>Offers that rare combination of entertainment ...</td>\n",
       "      <td>offer rare combin entertain educ</td>\n",
       "      <td>0.3000</td>\n",
       "    </tr>\n",
       "  </tbody>\n",
       "</table>\n",
       "</div>"
      ],
      "text/plain": [
       "  label                                               text  \\\n",
       "0     3                     Effective but too-tepid biopic   \n",
       "1     4  If you sometimes like to go to the movies to h...   \n",
       "2     5  Emerges as something rare , an issue movie tha...   \n",
       "3     3  The film provides some great insight into the ...   \n",
       "4     5  Offers that rare combination of entertainment ...   \n",
       "\n",
       "                                        text_nettoyé  textblob_score  \n",
       "0                             effect tootepid biopic          0.0000  \n",
       "1   sometim like go movi fun wasabi good place start          0.5000  \n",
       "2  emerg someth rare issu movi honest keenli obse...          0.4500  \n",
       "3  film provid great insight neurot mindset comic...          0.2875  \n",
       "4                   offer rare combin entertain educ          0.3000  "
      ]
     },
     "execution_count": 42,
     "metadata": {},
     "output_type": "execute_result"
    }
   ],
   "source": [
    "test['textblob_score'] =  test['text_nettoyé'].apply(textblob_score)\n",
    "test.head()"
   ]
  },
  {
   "cell_type": "code",
   "execution_count": 43,
   "id": "88139198",
   "metadata": {
    "papermill": {
     "duration": 0.022145,
     "end_time": "2022-09-11T12:25:29.283361",
     "exception": false,
     "start_time": "2022-09-11T12:25:29.261216",
     "status": "completed"
    },
    "tags": []
   },
   "outputs": [],
   "source": [
    "\n",
    "test['textblob_pred'] = pd.cut(test['textblob_score'],bins=5,labels=[1,2,3,4,5])\n",
    "test  = test.drop(['textblob_score'],axis=1)"
   ]
  },
  {
   "cell_type": "code",
   "execution_count": 44,
   "id": "85068dbc",
   "metadata": {
    "papermill": {
     "duration": 0.022477,
     "end_time": "2022-09-11T12:25:29.332540",
     "exception": false,
     "start_time": "2022-09-11T12:25:29.310063",
     "status": "completed"
    },
    "tags": []
   },
   "outputs": [
    {
     "data": {
      "text/html": [
       "<div>\n",
       "<style scoped>\n",
       "    .dataframe tbody tr th:only-of-type {\n",
       "        vertical-align: middle;\n",
       "    }\n",
       "\n",
       "    .dataframe tbody tr th {\n",
       "        vertical-align: top;\n",
       "    }\n",
       "\n",
       "    .dataframe thead th {\n",
       "        text-align: right;\n",
       "    }\n",
       "</style>\n",
       "<table border=\"1\" class=\"dataframe\">\n",
       "  <thead>\n",
       "    <tr style=\"text-align: right;\">\n",
       "      <th></th>\n",
       "      <th>label</th>\n",
       "      <th>text</th>\n",
       "      <th>text_nettoyé</th>\n",
       "      <th>textblob_pred</th>\n",
       "    </tr>\n",
       "  </thead>\n",
       "  <tbody>\n",
       "    <tr>\n",
       "      <th>0</th>\n",
       "      <td>3</td>\n",
       "      <td>Effective but too-tepid biopic</td>\n",
       "      <td>effect tootepid biopic</td>\n",
       "      <td>3</td>\n",
       "    </tr>\n",
       "    <tr>\n",
       "      <th>1</th>\n",
       "      <td>4</td>\n",
       "      <td>If you sometimes like to go to the movies to h...</td>\n",
       "      <td>sometim like go movi fun wasabi good place start</td>\n",
       "      <td>4</td>\n",
       "    </tr>\n",
       "    <tr>\n",
       "      <th>2</th>\n",
       "      <td>5</td>\n",
       "      <td>Emerges as something rare , an issue movie tha...</td>\n",
       "      <td>emerg someth rare issu movi honest keenli obse...</td>\n",
       "      <td>4</td>\n",
       "    </tr>\n",
       "    <tr>\n",
       "      <th>3</th>\n",
       "      <td>3</td>\n",
       "      <td>The film provides some great insight into the ...</td>\n",
       "      <td>film provid great insight neurot mindset comic...</td>\n",
       "      <td>4</td>\n",
       "    </tr>\n",
       "    <tr>\n",
       "      <th>4</th>\n",
       "      <td>5</td>\n",
       "      <td>Offers that rare combination of entertainment ...</td>\n",
       "      <td>offer rare combin entertain educ</td>\n",
       "      <td>4</td>\n",
       "    </tr>\n",
       "  </tbody>\n",
       "</table>\n",
       "</div>"
      ],
      "text/plain": [
       "  label                                               text  \\\n",
       "0     3                     Effective but too-tepid biopic   \n",
       "1     4  If you sometimes like to go to the movies to h...   \n",
       "2     5  Emerges as something rare , an issue movie tha...   \n",
       "3     3  The film provides some great insight into the ...   \n",
       "4     5  Offers that rare combination of entertainment ...   \n",
       "\n",
       "                                        text_nettoyé textblob_pred  \n",
       "0                             effect tootepid biopic             3  \n",
       "1   sometim like go movi fun wasabi good place start             4  \n",
       "2  emerg someth rare issu movi honest keenli obse...             4  \n",
       "3  film provid great insight neurot mindset comic...             4  \n",
       "4                   offer rare combin entertain educ             4  "
      ]
     },
     "execution_count": 44,
     "metadata": {},
     "output_type": "execute_result"
    }
   ],
   "source": [
    "test.head()"
   ]
  },
  {
   "cell_type": "code",
   "execution_count": 45,
   "id": "baddc310",
   "metadata": {
    "papermill": {
     "duration": 0.021348,
     "end_time": "2022-09-11T12:25:29.362819",
     "exception": false,
     "start_time": "2022-09-11T12:25:29.341471",
     "status": "completed"
    },
    "tags": []
   },
   "outputs": [
    {
     "name": "stdout",
     "output_type": "stream",
     "text": [
      "F1 Score : 0.1883719915646152 \n",
      " Accuracy : 22.805429864253394\n"
     ]
    }
   ],
   "source": [
    "f1_acc(test,\"textblob_pred\")"
   ]
  },
  {
   "cell_type": "markdown",
   "id": "aed271a8",
   "metadata": {
    "papermill": {
     "duration": 0.008663,
     "end_time": "2022-09-11T12:25:29.380615",
     "exception": false,
     "start_time": "2022-09-11T12:25:29.371952",
     "status": "completed"
    },
    "tags": []
   },
   "source": [
    "### Utilisation de  Vader Sentiment"
   ]
  },
  {
   "cell_type": "code",
   "execution_count": 46,
   "id": "5b189654",
   "metadata": {
    "papermill": {
     "duration": 0.035071,
     "end_time": "2022-09-11T12:25:29.424700",
     "exception": false,
     "start_time": "2022-09-11T12:25:29.389629",
     "status": "completed"
    },
    "tags": []
   },
   "outputs": [],
   "source": [
    "vader = SentimentIntensityAnalyzer()\n",
    "\n",
    "def vader_score(sent,vader):\n",
    "    return vader.polarity_scores(sent)['compound']"
   ]
  },
  {
   "cell_type": "code",
   "execution_count": 47,
   "id": "bcaf152f",
   "metadata": {
    "papermill": {
     "duration": 0.513059,
     "end_time": "2022-09-11T12:25:29.965645",
     "exception": false,
     "start_time": "2022-09-11T12:25:29.452586",
     "status": "completed"
    },
    "tags": []
   },
   "outputs": [
    {
     "data": {
      "text/html": [
       "<div>\n",
       "<style scoped>\n",
       "    .dataframe tbody tr th:only-of-type {\n",
       "        vertical-align: middle;\n",
       "    }\n",
       "\n",
       "    .dataframe tbody tr th {\n",
       "        vertical-align: top;\n",
       "    }\n",
       "\n",
       "    .dataframe thead th {\n",
       "        text-align: right;\n",
       "    }\n",
       "</style>\n",
       "<table border=\"1\" class=\"dataframe\">\n",
       "  <thead>\n",
       "    <tr style=\"text-align: right;\">\n",
       "      <th></th>\n",
       "      <th>label</th>\n",
       "      <th>text</th>\n",
       "      <th>text_nettoyé</th>\n",
       "      <th>textblob_pred</th>\n",
       "      <th>vader_score</th>\n",
       "    </tr>\n",
       "  </thead>\n",
       "  <tbody>\n",
       "    <tr>\n",
       "      <th>0</th>\n",
       "      <td>3</td>\n",
       "      <td>Effective but too-tepid biopic</td>\n",
       "      <td>effect tootepid biopic</td>\n",
       "      <td>3</td>\n",
       "      <td>0.2617</td>\n",
       "    </tr>\n",
       "    <tr>\n",
       "      <th>1</th>\n",
       "      <td>4</td>\n",
       "      <td>If you sometimes like to go to the movies to h...</td>\n",
       "      <td>sometim like go movi fun wasabi good place start</td>\n",
       "      <td>4</td>\n",
       "      <td>0.8271</td>\n",
       "    </tr>\n",
       "    <tr>\n",
       "      <th>2</th>\n",
       "      <td>5</td>\n",
       "      <td>Emerges as something rare , an issue movie tha...</td>\n",
       "      <td>emerg someth rare issu movi honest keenli obse...</td>\n",
       "      <td>4</td>\n",
       "      <td>0.6592</td>\n",
       "    </tr>\n",
       "    <tr>\n",
       "      <th>3</th>\n",
       "      <td>3</td>\n",
       "      <td>The film provides some great insight into the ...</td>\n",
       "      <td>film provid great insight neurot mindset comic...</td>\n",
       "      <td>4</td>\n",
       "      <td>0.5994</td>\n",
       "    </tr>\n",
       "    <tr>\n",
       "      <th>4</th>\n",
       "      <td>5</td>\n",
       "      <td>Offers that rare combination of entertainment ...</td>\n",
       "      <td>offer rare combin entertain educ</td>\n",
       "      <td>4</td>\n",
       "      <td>0.4215</td>\n",
       "    </tr>\n",
       "  </tbody>\n",
       "</table>\n",
       "</div>"
      ],
      "text/plain": [
       "  label                                               text  \\\n",
       "0     3                     Effective but too-tepid biopic   \n",
       "1     4  If you sometimes like to go to the movies to h...   \n",
       "2     5  Emerges as something rare , an issue movie tha...   \n",
       "3     3  The film provides some great insight into the ...   \n",
       "4     5  Offers that rare combination of entertainment ...   \n",
       "\n",
       "                                        text_nettoyé textblob_pred  \\\n",
       "0                             effect tootepid biopic             3   \n",
       "1   sometim like go movi fun wasabi good place start             4   \n",
       "2  emerg someth rare issu movi honest keenli obse...             4   \n",
       "3  film provid great insight neurot mindset comic...             4   \n",
       "4                   offer rare combin entertain educ             4   \n",
       "\n",
       "   vader_score  \n",
       "0       0.2617  \n",
       "1       0.8271  \n",
       "2       0.6592  \n",
       "3       0.5994  \n",
       "4       0.4215  "
      ]
     },
     "execution_count": 47,
     "metadata": {},
     "output_type": "execute_result"
    }
   ],
   "source": [
    "test['vader_score'] =  test['text'].apply(lambda x : vader_score(x,vader))\n",
    "test.head()"
   ]
  },
  {
   "cell_type": "code",
   "execution_count": 48,
   "id": "66feb840",
   "metadata": {
    "papermill": {
     "duration": 0.029527,
     "end_time": "2022-09-11T12:25:30.004173",
     "exception": false,
     "start_time": "2022-09-11T12:25:29.974646",
     "status": "completed"
    },
    "tags": []
   },
   "outputs": [
    {
     "data": {
      "text/html": [
       "<div>\n",
       "<style scoped>\n",
       "    .dataframe tbody tr th:only-of-type {\n",
       "        vertical-align: middle;\n",
       "    }\n",
       "\n",
       "    .dataframe tbody tr th {\n",
       "        vertical-align: top;\n",
       "    }\n",
       "\n",
       "    .dataframe thead th {\n",
       "        text-align: right;\n",
       "    }\n",
       "</style>\n",
       "<table border=\"1\" class=\"dataframe\">\n",
       "  <thead>\n",
       "    <tr style=\"text-align: right;\">\n",
       "      <th></th>\n",
       "      <th>label</th>\n",
       "      <th>text</th>\n",
       "      <th>text_nettoyé</th>\n",
       "      <th>textblob_pred</th>\n",
       "      <th>vader_pred</th>\n",
       "    </tr>\n",
       "  </thead>\n",
       "  <tbody>\n",
       "    <tr>\n",
       "      <th>0</th>\n",
       "      <td>3</td>\n",
       "      <td>Effective but too-tepid biopic</td>\n",
       "      <td>effect tootepid biopic</td>\n",
       "      <td>3</td>\n",
       "      <td>4</td>\n",
       "    </tr>\n",
       "    <tr>\n",
       "      <th>1</th>\n",
       "      <td>4</td>\n",
       "      <td>If you sometimes like to go to the movies to h...</td>\n",
       "      <td>sometim like go movi fun wasabi good place start</td>\n",
       "      <td>4</td>\n",
       "      <td>5</td>\n",
       "    </tr>\n",
       "    <tr>\n",
       "      <th>2</th>\n",
       "      <td>5</td>\n",
       "      <td>Emerges as something rare , an issue movie tha...</td>\n",
       "      <td>emerg someth rare issu movi honest keenli obse...</td>\n",
       "      <td>4</td>\n",
       "      <td>5</td>\n",
       "    </tr>\n",
       "    <tr>\n",
       "      <th>3</th>\n",
       "      <td>3</td>\n",
       "      <td>The film provides some great insight into the ...</td>\n",
       "      <td>film provid great insight neurot mindset comic...</td>\n",
       "      <td>4</td>\n",
       "      <td>5</td>\n",
       "    </tr>\n",
       "    <tr>\n",
       "      <th>4</th>\n",
       "      <td>5</td>\n",
       "      <td>Offers that rare combination of entertainment ...</td>\n",
       "      <td>offer rare combin entertain educ</td>\n",
       "      <td>4</td>\n",
       "      <td>4</td>\n",
       "    </tr>\n",
       "  </tbody>\n",
       "</table>\n",
       "</div>"
      ],
      "text/plain": [
       "  label                                               text  \\\n",
       "0     3                     Effective but too-tepid biopic   \n",
       "1     4  If you sometimes like to go to the movies to h...   \n",
       "2     5  Emerges as something rare , an issue movie tha...   \n",
       "3     3  The film provides some great insight into the ...   \n",
       "4     5  Offers that rare combination of entertainment ...   \n",
       "\n",
       "                                        text_nettoyé textblob_pred vader_pred  \n",
       "0                             effect tootepid biopic             3          4  \n",
       "1   sometim like go movi fun wasabi good place start             4          5  \n",
       "2  emerg someth rare issu movi honest keenli obse...             4          5  \n",
       "3  film provid great insight neurot mindset comic...             4          5  \n",
       "4                   offer rare combin entertain educ             4          4  "
      ]
     },
     "execution_count": 48,
     "metadata": {},
     "output_type": "execute_result"
    }
   ],
   "source": [
    "test['vader_pred'] = pd.cut(test['vader_score'],bins=5,labels=[1,2,3,4,5])\n",
    "test = test.drop('vader_score',axis=1)\n",
    "test.head()"
   ]
  },
  {
   "cell_type": "code",
   "execution_count": 49,
   "id": "7d33f4f4",
   "metadata": {
    "papermill": {
     "duration": 0.025201,
     "end_time": "2022-09-11T12:25:30.038799",
     "exception": false,
     "start_time": "2022-09-11T12:25:30.013598",
     "status": "completed"
    },
    "tags": []
   },
   "outputs": [
    {
     "name": "stdout",
     "output_type": "stream",
     "text": [
      "F1 Score : 0.3136923605939262 \n",
      " Accuracy : 31.583710407239817\n"
     ]
    }
   ],
   "source": [
    "f1_acc(test,\"vader_pred\")"
   ]
  },
  {
   "cell_type": "markdown",
   "id": "4a40ab6d",
   "metadata": {
    "papermill": {
     "duration": 0.009044,
     "end_time": "2022-09-11T12:25:30.058010",
     "exception": false,
     "start_time": "2022-09-11T12:25:30.048966",
     "status": "completed"
    },
    "tags": []
   },
   "source": [
    "### Meilleur modèle => Vader Sentiment (a un meilleur score f1)"
   ]
  },
  {
   "cell_type": "code",
   "execution_count": 50,
   "id": "33b7bba6",
   "metadata": {
    "papermill": {
     "duration": 0.022785,
     "end_time": "2022-09-11T12:25:30.090148",
     "exception": false,
     "start_time": "2022-09-11T12:25:30.067363",
     "status": "completed"
    },
    "tags": []
   },
   "outputs": [],
   "source": [
    "test['textblob_pred'] = test['textblob_pred'].astype(int)\n",
    "test['vader_pred'] = test['vader_pred'].astype(int)"
   ]
  },
  {
   "cell_type": "code",
   "execution_count": 51,
   "id": "2e462be6",
   "metadata": {
    "papermill": {
     "duration": 23.482593,
     "end_time": "2022-09-11T12:25:53.583084",
     "exception": false,
     "start_time": "2022-09-11T12:25:30.100491",
     "status": "completed"
    },
    "scrolled": true,
    "tags": []
   },
   "outputs": [
    {
     "data": {
      "text/plain": [
       "<Axes: >"
      ]
     },
     "execution_count": 51,
     "metadata": {},
     "output_type": "execute_result"
    },
    {
     "data": {
      "image/png": "[encoded data removed]",
      "text/plain": [
       "<Figure size 640x480 with 1 Axes>"
      ]
     },
     "metadata": {},
     "output_type": "display_data"
    }
   ],
   "source": [
    "test.plot(x='label',y=['textblob_pred','vader_pred'],kind='box')"
   ]
  },
  {
   "cell_type": "code",
   "execution_count": null,
   "id": "79259d9d",
   "metadata": {
    "papermill": {
     "duration": 0.009005,
     "end_time": "2022-09-11T12:25:53.628797",
     "exception": false,
     "start_time": "2022-09-11T12:25:53.619792",
     "status": "completed"
    },
    "tags": []
   },
   "outputs": [],
   "source": []
  }
 ],
 "metadata": {
  "kernelspec": {
   "display_name": "Python 3 (ipykernel)",
   "language": "python",
   "name": "python3"
  },
  "language_info": {
   "codemirror_mode": {
    "name": "ipython",
    "version": 3
   },
   "file_extension": ".py",
   "mimetype": "text/x-python",
   "name": "python",
   "nbconvert_exporter": "python",
   "pygments_lexer": "ipython3",
   "version": "3.11.7"
  },
  "papermill": {
   "default_parameters": {},
   "duration": 58.016969,
   "end_time": "2022-09-11T12:25:56.942329",
   "environment_variables": {},
   "exception": null,
   "input_path": "__notebook__.ipynb",
   "output_path": "__notebook__.ipynb",
   "parameters": {},
   "start_time": "2022-09-11T12:24:58.925360",
   "version": "2.3.4"
  }
 },
 "nbformat": 4,
 "nbformat_minor": 5
}
